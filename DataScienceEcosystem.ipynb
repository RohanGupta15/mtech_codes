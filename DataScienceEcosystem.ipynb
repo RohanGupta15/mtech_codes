{
 "cells": [
  {
   "cell_type": "markdown",
   "id": "211a8ab8-8415-4bc1-88a8-3116743516a5",
   "metadata": {},
   "source": [
    "# Data Science Tools and Ecosystem"
   ]
  },
  {
   "cell_type": "markdown",
   "id": "b9b6dd02-5b69-4c89-9137-db3e2b9521e8",
   "metadata": {},
   "source": [
    "A notebook containing summary of what I have learned so far regarding Data Science and various tools that are used for different purposes."
   ]
  },
  {
   "cell_type": "markdown",
   "id": "ef8f995d-f058-4464-a278-3cb83c46d89e",
   "metadata": {},
   "source": [
    "__Objectives__\n",
    "\n",
    "- Popular Languages\n",
    "- Popular Libraries\n",
    "- Arthematics in a Notebook\n",
    "- Commenting in a Code Cell"
   ]
  },
  {
   "cell_type": "markdown",
   "id": "625353c8-bdc1-4c19-ad21-55764b2045cd",
   "metadata": {},
   "source": [
    "Some of the popular languages that Data Scientists use are:\n",
    "1. Python\n",
    "2. R\n",
    "3. SQL\n",
    "4. Julia\n",
    "5. Scala"
   ]
  },
  {
   "cell_type": "markdown",
   "id": "f4897545-ab1a-4165-b3e5-7526f593a5d3",
   "metadata": {},
   "source": [
    "Some of the commonly used libraries used by Data Scientists include:\n",
    "\n",
    "1. Pandas\n",
    "2. NumPy\n",
    "3. scikit-learn\n",
    "4. TensorFlow\n",
    "5. Matplotlib"
   ]
  },
  {
   "cell_type": "markdown",
   "id": "d52bfd19-701d-466f-a9b0-1a35f4d51381",
   "metadata": {},
   "source": [
    "| Data Science Tools |\n",
    "-\n",
    "|Jupyter Notebook|\n",
    "|RStudio|\n",
    "|PyCharm|\n",
    "|Adobe Spark|"
   ]
  },
  {
   "cell_type": "markdown",
   "id": "7af9958e-e66c-4332-8235-c7b977c90ddf",
   "metadata": {},
   "source": [
    "### Below are a few examples of evaluating arithmetic expressions in Python"
   ]
  },
  {
   "cell_type": "code",
   "execution_count": 1,
   "id": "894d339e-5636-4904-8deb-066d811931a7",
   "metadata": {
    "tags": []
   },
   "outputs": [
    {
     "data": {
      "text/plain": [
       "17"
      ]
     },
     "execution_count": 1,
     "metadata": {},
     "output_type": "execute_result"
    }
   ],
   "source": [
    "(3*4)+5\n",
    "# This a simple arithmetic expression to mutiply then add integers."
   ]
  },
  {
   "cell_type": "code",
   "execution_count": 2,
   "id": "1459bf7e-deb3-4829-a942-8dce9a170c62",
   "metadata": {
    "tags": []
   },
   "outputs": [
    {
     "data": {
      "text/plain": [
       "3.3333333333333335"
      ]
     },
     "execution_count": 2,
     "metadata": {},
     "output_type": "execute_result"
    }
   ],
   "source": [
    "# This will convert 200 minutes to hours by diving by 60\n",
    "200/60"
   ]
  },
  {
   "cell_type": "markdown",
   "id": "157fbd19-b428-4d07-92a7-6f0f89d8a5cb",
   "metadata": {},
   "source": [
    "## Author\n",
    "Rohan Gupta"
   ]
  },
  {
   "cell_type": "code",
   "execution_count": null,
   "id": "ad8a4372-c4ab-4370-8cae-bac7fd65f8b8",
   "metadata": {},
   "outputs": [],
   "source": []
  }
 ],
 "metadata": {
  "kernelspec": {
   "display_name": "Python",
   "language": "python",
   "name": "conda-env-python-py"
  },
  "language_info": {
   "codemirror_mode": {
    "name": "ipython",
    "version": 3
   },
   "file_extension": ".py",
   "mimetype": "text/x-python",
   "name": "python",
   "nbconvert_exporter": "python",
   "pygments_lexer": "ipython3",
   "version": "3.7.12"
  }
 },
 "nbformat": 4,
 "nbformat_minor": 5
}
